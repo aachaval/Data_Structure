{
 "cells": [
  {
   "cell_type": "markdown",
   "id": "c4baeba6",
   "metadata": {},
   "source": [
    "# Sprint 2 Task 1 (S02_T01)\n",
    "\n",
    "Author: *Alberto Achaval*"
   ]
  },
  {
   "cell_type": "markdown",
   "id": "39d699ee",
   "metadata": {},
   "source": [
    "## Level 1 "
   ]
  },
  {
   "cell_type": "markdown",
   "id": "62aafc98",
   "metadata": {},
   "source": [
    "### Practice 1"
   ]
  },
  {
   "cell_type": "code",
   "execution_count": 16,
   "id": "ff8c7d0a",
   "metadata": {},
   "outputs": [],
   "source": [
    "# I create a list of lists with months grouped by quarters\n",
    "\n",
    "months = [[\"January\",\"February\",\"March\"],[\"April\",\"May\",\"June\"],\n",
    "         [\"July\",\"August\",\"Septembre\"],[\"October\",\"November\",\"Dicember\"]]"
   ]
  },
  {
   "cell_type": "markdown",
   "id": "8ab91f27",
   "metadata": {},
   "source": [
    "### Practice 2"
   ]
  },
  {
   "cell_type": "code",
   "execution_count": 17,
   "id": "67fa8fba",
   "metadata": {},
   "outputs": [
    {
     "name": "stdout",
     "output_type": "stream",
     "text": [
      "February\n"
     ]
    }
   ],
   "source": [
    "# Access second month, first quarter\n",
    "\n",
    "print(months[0][1])"
   ]
  },
  {
   "cell_type": "code",
   "execution_count": 18,
   "id": "cddb2ca0",
   "metadata": {
    "scrolled": true
   },
   "outputs": [
    {
     "name": "stdout",
     "output_type": "stream",
     "text": [
      "['January', 'February', 'March']\n"
     ]
    }
   ],
   "source": [
    "# First quarter months\n",
    "\n",
    "print(months[0])"
   ]
  },
  {
   "cell_type": "code",
   "execution_count": 19,
   "id": "d63c68d7",
   "metadata": {},
   "outputs": [
    {
     "name": "stdout",
     "output_type": "stream",
     "text": [
      "Septembre October\n"
     ]
    }
   ],
   "source": [
    "# September and October\n",
    "\n",
    "print(months[2][2], months[3][0])"
   ]
  },
  {
   "cell_type": "markdown",
   "id": "f4e6062f",
   "metadata": {},
   "source": [
    "### Practice 3"
   ]
  },
  {
   "cell_type": "code",
   "execution_count": 70,
   "id": "069e47cf",
   "metadata": {},
   "outputs": [],
   "source": [
    "# I create a list of unordered numbers\n",
    "\n",
    "numbers = [8,5,6,15,3,789,-5,8,7,665,4,9,64,21,654,98,\n",
    "           691,613,56,45,45,5,3524,1,213,41,45,8,6,3]"
   ]
  },
  {
   "cell_type": "code",
   "execution_count": 62,
   "id": "d3d8efa0",
   "metadata": {},
   "outputs": [
    {
     "name": "stdout",
     "output_type": "stream",
     "text": [
      "30\n"
     ]
    }
   ],
   "source": [
    "# Number of items in the list\n",
    "\n",
    "print(len(numbers))"
   ]
  },
  {
   "cell_type": "code",
   "execution_count": 63,
   "id": "7e6d12f8",
   "metadata": {},
   "outputs": [
    {
     "name": "stdout",
     "output_type": "stream",
     "text": [
      "2\n"
     ]
    }
   ],
   "source": [
    "# Number of times value \"3\" appears\n",
    "\n",
    "print(numbers.count(3))"
   ]
  },
  {
   "cell_type": "code",
   "execution_count": 64,
   "id": "40e617be",
   "metadata": {},
   "outputs": [
    {
     "name": "stdout",
     "output_type": "stream",
     "text": [
      "3\n"
     ]
    }
   ],
   "source": [
    "# Number of times value \"3\" and \"4\" appears\n",
    "print(numbers.count(3) + numbers.count(4))"
   ]
  },
  {
   "cell_type": "code",
   "execution_count": 65,
   "id": "99601e69",
   "metadata": {},
   "outputs": [
    {
     "name": "stdout",
     "output_type": "stream",
     "text": [
      "3524\n"
     ]
    }
   ],
   "source": [
    "# Max value\n",
    "\n",
    "print(max(numbers))"
   ]
  },
  {
   "cell_type": "code",
   "execution_count": 77,
   "id": "4ceb47f4",
   "metadata": {},
   "outputs": [
    {
     "name": "stdout",
     "output_type": "stream",
     "text": [
      "[-5, 1, 3]\n"
     ]
    }
   ],
   "source": [
    "# Last 3 min values\n",
    "\n",
    "numbers.sort()\n",
    "print(numbers[:3])"
   ]
  },
  {
   "cell_type": "code",
   "execution_count": 82,
   "id": "c570ee32",
   "metadata": {},
   "outputs": [
    {
     "name": "stdout",
     "output_type": "stream",
     "text": [
      "30\n"
     ]
    }
   ],
   "source": [
    "# List rank\n",
    "\n",
    "print(len(numbers))"
   ]
  },
  {
   "cell_type": "markdown",
   "id": "279757d1",
   "metadata": {},
   "source": [
    "### Practice 4"
   ]
  },
  {
   "cell_type": "code",
   "execution_count": 90,
   "id": "b704d965",
   "metadata": {},
   "outputs": [],
   "source": [
    "# I create a dictionary\n",
    "\n",
    "compra = {\"Pomes\": {\"Qty\": 5, \"€\": 0.42}, \"Peres\": {\"Qty\": 3, \"€\": 0.66}}"
   ]
  },
  {
   "cell_type": "code",
   "execution_count": 97,
   "id": "cefbbf16",
   "metadata": {},
   "outputs": [
    {
     "name": "stdout",
     "output_type": "stream",
     "text": [
      "{'Pomes': {'Qty': 5, '€': 0.42}, 'Peres': {'Qty': 3, '€': 0.66}, 'Orange': {'Qty': 8, '€': 0.21}}\n"
     ]
    }
   ],
   "source": [
    "# Add a new fruit\n",
    "\n",
    "compra[\"Orange\"] = {\"Qty\": 8, \"€\": 0.21}\n",
    "print(compra)"
   ]
  },
  {
   "cell_type": "code",
   "execution_count": 107,
   "id": "6dbd98dd",
   "metadata": {},
   "outputs": [
    {
     "name": "stdout",
     "output_type": "stream",
     "text": [
      "1.98\n"
     ]
    }
   ],
   "source": [
    "# Peres total cost\n",
    "\n",
    "print(compra[\"Peres\"][\"Qty\"] * compra[\"Peres\"][\"€\"])"
   ]
  },
  {
   "cell_type": "code",
   "execution_count": 111,
   "id": "dd926231",
   "metadata": {},
   "outputs": [
    {
     "name": "stdout",
     "output_type": "stream",
     "text": [
      "16\n"
     ]
    }
   ],
   "source": [
    "# How much fruit was bought\n",
    "\n",
    "print(compra[\"Pomes\"][\"Qty\"] + compra[\"Peres\"][\"Qty\"] + \n",
    "      compra[\"Orange\"][\"Qty\"])"
   ]
  },
  {
   "cell_type": "code",
   "execution_count": 114,
   "id": "d54b71fd",
   "metadata": {},
   "outputs": [
    {
     "name": "stdout",
     "output_type": "stream",
     "text": [
      "0.66\n"
     ]
    }
   ],
   "source": [
    "# The most expensive fruit\n",
    "\n",
    "print(max(compra[\"Pomes\"][\"€\"] , compra[\"Peres\"][\"€\"] , \n",
    "      compra[\"Orange\"][\"€\"]))"
   ]
  }
 ],
 "metadata": {
  "kernelspec": {
   "display_name": "Python 3 (ipykernel)",
   "language": "python",
   "name": "python3"
  },
  "language_info": {
   "codemirror_mode": {
    "name": "ipython",
    "version": 3
   },
   "file_extension": ".py",
   "mimetype": "text/x-python",
   "name": "python",
   "nbconvert_exporter": "python",
   "pygments_lexer": "ipython3",
   "version": "3.9.7"
  }
 },
 "nbformat": 4,
 "nbformat_minor": 5
}
